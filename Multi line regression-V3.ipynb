{
 "cells": [
  {
   "cell_type": "code",
   "execution_count": 1,
   "metadata": {},
   "outputs": [],
   "source": [
    "from pyomo.environ import *\n",
    "import matplotlib.pyplot as plt\n",
    "import numpy as np\n",
    "import random \n",
    "import operator"
   ]
  },
  {
   "cell_type": "code",
   "execution_count": 2,
   "metadata": {},
   "outputs": [],
   "source": [
    "N=20\n",
    "nK=3\n",
    "df={}\n",
    "for i in range(N):\n",
    "    df[i,'x']=random.random()\n",
    "    df[i,'y']=random.random()\n"
   ]
  },
  {
   "cell_type": "code",
   "execution_count": 3,
   "metadata": {},
   "outputs": [],
   "source": [
    "n=int(len(df)/2)\n",
    "model = AbstractModel()\n",
    "model.N =Param(mutable=True, default=n) \n",
    "model.i = RangeSet(1,model.N)\n",
    "model.k = RangeSet(1,nK)\n",
    "model.j = Set(initialize=model.i)\n",
    "model.Alpha = Var(model.k,bounds=(-2,2), within=Reals)\n",
    "model.Beta = Var(model.k, bounds=(-2,2), within=Reals)\n",
    "model.U = Var(model.i,model.k, initialize=0,bounds=(0,1), within=Binary)\n",
    "model.r = Var(model.i,bounds=(0,200), within=NonNegativeReals)\n",
    "\n",
    "\n",
    "def rule_C1(model,i,k):\n",
    "        return model.r[i]>= df[i-1,'x']*model.Alpha[k]+model.Beta[k] -df[i-1,'y'] - 4*(1-model.U[i,k])\n",
    "model.C1   = Constraint(model.i,model.k,rule=rule_C1)\n",
    "\n",
    "def rule_C2(model,i,k):\n",
    "        return model.r[i]>= -(df[i-1,'x']*model.Alpha[k]+model.Beta[k] -df[i-1,'y']) - 4*(1-model.U[i,k])\n",
    "model.C2   = Constraint(model.i,model.k,rule=rule_C2)\n",
    "\n",
    "def rule_C7(model,i):\n",
    "        return sum(model.U[i,k] for k in model.k)==1\n",
    "model.C7   = Constraint(model.i,rule=rule_C7)\n",
    "\n",
    "def rule_C9(model,k):\n",
    "        if k+1<=nK:\n",
    "            return model.Alpha[k]<= model.Alpha[k+1]\n",
    "        else:\n",
    "            return Constraint.Skip\n",
    "model.C9   = Constraint(model.k,rule=rule_C9)\n",
    "\n",
    "def rule_OF(model):\n",
    "    return sum(model.r[i] for i in model.i)\n",
    "model.obj1 = Objective(rule=rule_OF, sense=minimize)"
   ]
  },
  {
   "cell_type": "code",
   "execution_count": null,
   "metadata": {},
   "outputs": [],
   "source": [
    "opt = SolverFactory('glpk')\n",
    "\n",
    "\n",
    "model.N=n\n",
    "instance = model.create_instance()\n",
    "\n",
    "results = opt.solve(instance) # solves and updates instance\n",
    "print('OF= ',value(instance.obj1))\n",
    "print (\"The solver returned a status of:\"+str(results.solver.status))\n",
    "from pyomo.opt import SolverStatus, TerminationCondition\n",
    "if (results.solver.status == SolverStatus.ok) and (results.solver.termination_condition == TerminationCondition.optimal):\n",
    "     print (\"this is feasible and optimal\")\n",
    "elif results.solver.termination_condition == TerminationCondition.infeasible:\n",
    "     print (\"do something about it? or exit?\")\n",
    "else:\n",
    "     print (str(results.solver))"
   ]
  }
 ],
 "metadata": {
  "kernelspec": {
   "display_name": "Python 3",
   "language": "python",
   "name": "python3"
  },
  "language_info": {
   "codemirror_mode": {
    "name": "ipython",
    "version": 3
   },
   "file_extension": ".py",
   "mimetype": "text/x-python",
   "name": "python",
   "nbconvert_exporter": "python",
   "pygments_lexer": "ipython3",
   "version": "3.7.4"
  }
 },
 "nbformat": 4,
 "nbformat_minor": 4
}
