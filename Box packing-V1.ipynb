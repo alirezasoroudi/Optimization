{
 "cells": [
  {
   "cell_type": "code",
   "execution_count": 1,
   "metadata": {},
   "outputs": [],
   "source": [
    "from pyomo.environ import *\n",
    "import matplotlib.pyplot as plt\n",
    "import pandas as pd\n",
    "import numpy as np \n",
    "import random"
   ]
  },
  {
   "cell_type": "code",
   "execution_count": 2,
   "metadata": {},
   "outputs": [
    {
     "data": {
      "text/html": [
       "<div>\n",
       "<style scoped>\n",
       "    .dataframe tbody tr th:only-of-type {\n",
       "        vertical-align: middle;\n",
       "    }\n",
       "\n",
       "    .dataframe tbody tr th {\n",
       "        vertical-align: top;\n",
       "    }\n",
       "\n",
       "    .dataframe thead th {\n",
       "        text-align: right;\n",
       "    }\n",
       "</style>\n",
       "<table border=\"1\" class=\"dataframe\">\n",
       "  <thead>\n",
       "    <tr style=\"text-align: right;\">\n",
       "      <th></th>\n",
       "      <th></th>\n",
       "      <th>L</th>\n",
       "      <th>W</th>\n",
       "    </tr>\n",
       "  </thead>\n",
       "  <tbody>\n",
       "    <tr>\n",
       "      <th>0</th>\n",
       "      <td>pallet1</td>\n",
       "      <td>213</td>\n",
       "      <td>241</td>\n",
       "    </tr>\n",
       "    <tr>\n",
       "      <th>1</th>\n",
       "      <td>pallet2</td>\n",
       "      <td>256</td>\n",
       "      <td>279</td>\n",
       "    </tr>\n",
       "    <tr>\n",
       "      <th>2</th>\n",
       "      <td>pallet3</td>\n",
       "      <td>160</td>\n",
       "      <td>283</td>\n",
       "    </tr>\n",
       "    <tr>\n",
       "      <th>3</th>\n",
       "      <td>pallet4</td>\n",
       "      <td>121</td>\n",
       "      <td>188</td>\n",
       "    </tr>\n",
       "    <tr>\n",
       "      <th>4</th>\n",
       "      <td>pallet5</td>\n",
       "      <td>197</td>\n",
       "      <td>240</td>\n",
       "    </tr>\n",
       "    <tr>\n",
       "      <th>5</th>\n",
       "      <td>pallet6</td>\n",
       "      <td>179</td>\n",
       "      <td>289</td>\n",
       "    </tr>\n",
       "    <tr>\n",
       "      <th>6</th>\n",
       "      <td>pallet7</td>\n",
       "      <td>176</td>\n",
       "      <td>221</td>\n",
       "    </tr>\n",
       "    <tr>\n",
       "      <th>7</th>\n",
       "      <td>pallet8</td>\n",
       "      <td>122</td>\n",
       "      <td>285</td>\n",
       "    </tr>\n",
       "    <tr>\n",
       "      <th>8</th>\n",
       "      <td>pallet9</td>\n",
       "      <td>109</td>\n",
       "      <td>220</td>\n",
       "    </tr>\n",
       "    <tr>\n",
       "      <th>9</th>\n",
       "      <td>pallet10</td>\n",
       "      <td>120</td>\n",
       "      <td>200</td>\n",
       "    </tr>\n",
       "  </tbody>\n",
       "</table>\n",
       "</div>"
      ],
      "text/plain": [
       "                 L    W\n",
       "0  pallet1     213  241\n",
       "1  pallet2     256  279\n",
       "2  pallet3     160  283\n",
       "3  pallet4     121  188\n",
       "4  pallet5     197  240\n",
       "5  pallet6     179  289\n",
       "6  pallet7     176  221\n",
       "7  pallet8     122  285\n",
       "8  pallet9     109  220\n",
       "9  pallet10    120  200"
      ]
     },
     "execution_count": 2,
     "metadata": {},
     "output_type": "execute_result"
    }
   ],
   "source": [
    "df = pd.read_csv(\"box.csv\", delimiter=',', skiprows=0, low_memory=False)\n",
    "df"
   ]
  },
  {
   "cell_type": "code",
   "execution_count": 3,
   "metadata": {},
   "outputs": [],
   "source": [
    "M=1000\n",
    "model = AbstractModel()\n",
    "model.i = RangeSet(1,10)\n",
    "model.j = Set(initialize=model.i)\n",
    "model.v = RangeSet(1,4)\n",
    "\n",
    "def initvar(model):\n",
    "    return 2000*random.random()\n",
    "\n",
    "def initvaB(model):\n",
    "    return random.randint(0,1)\n",
    "\n",
    "model.xp = Var(model.i, initialize=initvar, bounds=(0,2000),domain=NonNegativeReals)\n",
    "model.yp = Var(model.i, initialize=initvar, bounds=(0,2000),domain=NonNegativeReals)\n",
    "model.L = Param(model.i, initialize=1, mutable=True)\n",
    "model.W = Param(model.i, initialize=1, mutable=True)\n",
    "model.R = Var(model.i,model.j, initialize=initvaB,domain=Binary)\n",
    "model.left = Var(model.i,model.j, initialize=initvaB,domain=Binary)\n",
    "model.U = Var(model.i,model.j, initialize=initvaB,domain=Binary)\n",
    "model.Down = Var(model.i,model.j, initialize=initvaB,domain=Binary)\n",
    "\n",
    "model.X=Var(initialize=0, bounds=(0,2000),domain=NonNegativeReals)\n",
    "model.Y=Var(initialize=0, bounds=(0,2000),domain=NonNegativeReals)\n",
    "\n",
    "def rue_c1(model,i,j):\n",
    "    if i!=j:\n",
    "        return -M*(1-model.R[i,j])+model.xp[i]+model.L[i] <= model.xp[j]-0.1\n",
    "    else:\n",
    "        return Constraint.Skip\n",
    "model.c1 =Constraint(model.i,model.j,rule=rue_c1)    \n",
    "\n",
    "def rue_c1A(model,i,j):\n",
    "    if i!=j:\n",
    "        return +M*(model.R[i,j])+model.xp[i]+model.L[i] >= model.xp[j]+0.1\n",
    "    else:\n",
    "        return Constraint.Skip\n",
    "model.c1A =Constraint(model.i,model.j,rule=rue_c1A)    \n",
    "\n",
    "\n",
    "def rue_c2(model,i,j):\n",
    "    if i!=j:\n",
    "        return model.xp[j]+model.L[j] -M*(1-model.left[i,j])<=model.xp[i]-0.1\n",
    "    else:\n",
    "        return Constraint.Skip\n",
    "model.c2 =Constraint(model.i,model.j,rule=rue_c2) \n",
    "\n",
    "def rue_c2A(model,i,j):\n",
    "    if i!=j:\n",
    "        return model.xp[j]+model.L[j] +M*(model.left[i,j])>=model.xp[i]+0.1\n",
    "    else:\n",
    "        return Constraint.Skip\n",
    "model.c2A =Constraint(model.i,model.j,rule=rue_c2A) \n",
    "\n",
    "\n",
    "def rue_c3(model,i,j):\n",
    "    if i!=j:\n",
    "        return -M*(1-model.U[i,j])+model.yp[i]+model.W[i] <= model.yp[j]-0.1\n",
    "    else:\n",
    "        return Constraint.Skip\n",
    "model.c3 =Constraint(model.i,model.j,rule=rue_c3)    \n",
    "\n",
    "def rue_c3A(model,i,j):\n",
    "    if i!=j:\n",
    "        return  M*(model.U[i,j])+model.yp[i]+model.W[i] >= model.yp[j]+0.1\n",
    "    else:\n",
    "        return Constraint.Skip\n",
    "model.c3A =Constraint(model.i,model.j,rule=rue_c3A)    \n",
    "\n",
    "\n",
    "def rue_c4(model,i,j):\n",
    "    if i!=j:\n",
    "        return model.yp[j]+model.W[j] -M*(1-model.Down[i,j])<=model.yp[i]+0.1\n",
    "    else:\n",
    "        return Constraint.Skip\n",
    "model.c4 =Constraint(model.i,model.j,rule=rue_c4) \n",
    "\n",
    "def rue_c4A(model,i,j):\n",
    "    if i!=j:\n",
    "        return model.yp[j]+model.W[j] +M*(model.Down[i,j])>=model.yp[i]-0.1\n",
    "    else:\n",
    "        return Constraint.Skip\n",
    "model.c4A =Constraint(model.i,model.j,rule=rue_c4A) \n",
    "\n",
    "def rue_c5(model,i,j):\n",
    "    if i!=j:\n",
    "        return model.U[i,j]+model.Down[i,j]+model.R[i,j]+model.left[i,j]>=1\n",
    "    else:\n",
    "        return Constraint.Skip\n",
    "model.c5 =Constraint(model.i,model.j,rule=rue_c5)    \n",
    "    \n",
    "def rue_c7(model,i,j):\n",
    "    if i!=j:\n",
    "        return model.U[i,j]+model.Down[i,j]<=1\n",
    "    else:\n",
    "        return Constraint.Skip\n",
    "model.c7 =Constraint(model.i,model.j,rule=rue_c7)    \n",
    "    \n",
    "    \n",
    "def rue_c8(model,i,j):\n",
    "    if i!=j:\n",
    "        return model.R[i,j]+model.left[i,j]<=1\n",
    "    else:\n",
    "        return Constraint.Skip\n",
    "model.c8 =Constraint(model.i,model.j,rule=rue_c8)    \n",
    "        \n",
    "def rue_c6A(model,i):\n",
    "    return model.xp[i]+model.L[i]<=model.X\n",
    "model.c6A =Constraint(model.i,rule=rue_c6A)     \n",
    "def rue_c6B(model,i):\n",
    "    return model.yp[i]+model.W[i]<=model.Y\n",
    "model.c6B =Constraint(model.i,rule=rue_c6B)     \n",
    "\n",
    "def rule_OF(model):\n",
    "    return model.X+model.Y \n",
    "model.obj = Objective(rule=rule_OF, sense=minimize)"
   ]
  },
  {
   "cell_type": "code",
   "execution_count": 4,
   "metadata": {},
   "outputs": [],
   "source": [
    "instance = model.create_instance()\n",
    "for i in instance.i:\n",
    "    instance.L[i]=df.loc[i-1,'L']\n",
    "    instance.W[i]=df.loc[i-1,'W']"
   ]
  },
  {
   "cell_type": "code",
   "execution_count": 5,
   "metadata": {},
   "outputs": [
    {
     "name": "stdout",
     "output_type": "stream",
     "text": [
      "this is feasible and optimal\n"
     ]
    }
   ],
   "source": [
    "opt = SolverFactory('gurobi')\n",
    "opt.options['mipgap'] = 0.1\n",
    "opt.options['Heuristics'] = 0.15\n",
    "opt.options['MIPFocus'] = 3\n",
    "\n",
    "#The MIPFocus parameter allows you to modify your high-level solution strategy, \n",
    "#depending on your goals. By default, the Gurobi MIP solver strikes a balance between finding new feasible solutions \n",
    "#and proving that the current solution is optimal. If you are more interested in finding feasible solutions quickly, \n",
    "#you can select MIPFocus=1. If you believe the solver is having no trouble finding good quality solutions, and wish to focus more attention on proving optimality, select MIPFocus=2. If the best objective bound is moving very slowly (or not at all), you may want to try MIPFocus=3 to focus on the bound.\n",
    "\n",
    "results=opt.solve(instance)\n",
    "\n",
    "from pyomo.opt import SolverStatus, TerminationCondition\n",
    "if (results.solver.status == SolverStatus.ok) and (results.solver.termination_condition == TerminationCondition.optimal):\n",
    "     print (\"this is feasible and optimal\")\n",
    "elif results.solver.termination_condition == TerminationCondition.infeasible:\n",
    "     print (\"do something about it? or exit?\")\n",
    "else:\n",
    "     print (str(results.solver))"
   ]
  },
  {
   "cell_type": "code",
   "execution_count": 9,
   "metadata": {},
   "outputs": [
    {
     "name": "stdout",
     "output_type": "stream",
     "text": [
      "1 0.0 240.10000000000002\n",
      "2 122.10000000000002 483.20000000000005\n",
      "3 213.10000000000002 200.10000000000002\n",
      "4 317.20000000000005 0.0\n",
      "5 0.0 0.0\n",
      "6 378.20000000000005 220.10000000000002\n",
      "7 378.20000000000005 509.20000000000005\n",
      "8 0.0 481.20000000000005\n",
      "9 438.30000000000007 0.0\n",
      "10 197.10000000000002 0.0\n",
      "OF=  1323.4\n"
     ]
    },
    {
     "data": {
      "text/plain": [
       "(-5.0, 800.0)"
      ]
     },
     "execution_count": 9,
     "metadata": {},
     "output_type": "execute_result"
    },
    {
     "data": {
      "image/png": "[encoded data removed]",
      "text/plain": [
       "<Figure size 576x432 with 1 Axes>"
      ]
     },
     "metadata": {
      "needs_background": "light"
     },
     "output_type": "display_data"
    }
   ],
   "source": [
    "plt.figure(figsize=(8,6))\n",
    "K=[\"#1f77b4\", \"#ff7f0e\", \"#2ca02c\", \"#d62728\", \"#9467bd\", \"#8c564b\", \"#e377c2\", \"#7f7f7f\", \"#bcbd22\", \"#17becf\"]\n",
    "K=[\"blue\", \"red\", \"gold\", \"k\", \"brown\", \"teal\", \"#e377c2\", \"#7f7f7f\", \"#bcbd22\", \"#17becf\"]\n",
    "\n",
    "for i in instance.i:\n",
    "    print(i,value(instance.xp[i]),value(instance.yp[i]))\n",
    "    plt.plot( (value(instance.xp[i]),value(instance.xp[i]+instance.L[i])) , (value(instance.yp[i]),value(instance.yp[i])) , c=K[i-1], lw=4 )\n",
    "    plt.plot( (value(instance.xp[i]),value(instance.xp[i]+instance.L[i])) , (value(instance.yp[i]+instance.W[i]),value(instance.yp[i]+instance.W[i])), c=K[i-1] , lw=4  )\n",
    "    plt.plot( (value(instance.xp[i]),value(instance.xp[i])) , (value(instance.yp[i]),value(instance.yp[i]+instance.W[i])) , c=K[i-1], lw=4  )\n",
    "    plt.plot( (value(instance.xp[i]+instance.L[i]),value(instance.xp[i]+instance.L[i])) , (value(instance.yp[i]),value(instance.yp[i]+instance.W[i])), c=K[i-1] , lw=4  )\n",
    "    plt.text(value(instance.xp[i]+instance.L[i]/2),value(instance.yp[i]+instance.W[i]/2), s=str(i), fontweight='bold',fontsize=16,c=K[i-1] )\n",
    "    \n",
    "print('OF= ',value(instance.obj))\n",
    "plt.xlim(-5,800)\n",
    "plt.ylim(-5,800)\n"
   ]
  },
  {
   "cell_type": "code",
   "execution_count": 7,
   "metadata": {},
   "outputs": [
    {
     "data": {
      "text/plain": [
       "\"for w in range(20):\\n    plt.figure(figsize=(8,8))\\n    for i in instance.i:\\n        x=1000*random.random()\\n        y=1000*random.random()\\n        plt.plot( (x,x+value(instance.L[i]) ) , (y,y) , c=K[i-1], lw=4 )\\n        plt.plot( (x,x+value(instance.L[i])) , (y+value(instance.W[i]),y+value(instance.W[i]) ), c=K[i-1] , lw=4  )\\n        plt.plot( (x,x) , (y,y+value(instance.W[i])) , c=K[i-1], lw=4  )\\n        plt.plot( (x+value(instance.L[i]),x+value(instance.L[i])) , (y,y+value(instance.W[i])), c=K[i-1] , lw=4  )\\n        plt.text(x+value(instance.L[i]/2),y+value(instance.W[i]/2), s=str(i), fontweight='bold',fontsize=16,c=K[i-1] )\\n        plt.xlim(0,1300)\\n        plt.ylim(0,1300)\\n        plt.savefig('Box '+str(w)+' .png', format='png', bbox_inches='tight', dpi=500)\\n\\n\""
      ]
     },
     "execution_count": 7,
     "metadata": {},
     "output_type": "execute_result"
    }
   ],
   "source": [
    "'''for w in range(20):\n",
    "    plt.figure(figsize=(8,8))\n",
    "    for i in instance.i:\n",
    "        x=1000*random.random()\n",
    "        y=1000*random.random()\n",
    "        plt.plot( (x,x+value(instance.L[i]) ) , (y,y) , c=K[i-1], lw=4 )\n",
    "        plt.plot( (x,x+value(instance.L[i])) , (y+value(instance.W[i]),y+value(instance.W[i]) ), c=K[i-1] , lw=4  )\n",
    "        plt.plot( (x,x) , (y,y+value(instance.W[i])) , c=K[i-1], lw=4  )\n",
    "        plt.plot( (x+value(instance.L[i]),x+value(instance.L[i])) , (y,y+value(instance.W[i])), c=K[i-1] , lw=4  )\n",
    "        plt.text(x+value(instance.L[i]/2),y+value(instance.W[i]/2), s=str(i), fontweight='bold',fontsize=16,c=K[i-1] )\n",
    "        plt.xlim(0,1300)\n",
    "        plt.ylim(0,1300)\n",
    "        plt.savefig('Box '+str(w)+' .png', format='png', bbox_inches='tight', dpi=500)\n",
    "\n",
    "'''"
   ]
  },
  {
   "cell_type": "code",
   "execution_count": null,
   "metadata": {},
   "outputs": [],
   "source": []
  }
 ],
 "metadata": {
  "kernelspec": {
   "display_name": "Python 3",
   "language": "python",
   "name": "python3"
  },
  "language_info": {
   "codemirror_mode": {
    "name": "ipython",
    "version": 3
   },
   "file_extension": ".py",
   "mimetype": "text/x-python",
   "name": "python",
   "nbconvert_exporter": "python",
   "pygments_lexer": "ipython3",
   "version": "3.7.4"
  }
 },
 "nbformat": 4,
 "nbformat_minor": 4
}
