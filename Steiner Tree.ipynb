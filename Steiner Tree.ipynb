{
 "cells": [
  {
   "cell_type": "code",
   "execution_count": 1,
   "metadata": {},
   "outputs": [],
   "source": [
    "from pyomo.environ import *\n",
    "import matplotlib.pyplot as plt\n",
    "import numpy as np\n",
    "import random \n",
    "import operator"
   ]
  },
  {
   "cell_type": "code",
   "execution_count": 7,
   "metadata": {},
   "outputs": [
    {
     "data": {
      "image/png": "[encoded data removed]",
      "text/plain": [
       "<Figure size 432x288 with 1 Axes>"
      ]
     },
     "metadata": {
      "needs_background": "light"
     },
     "output_type": "display_data"
    }
   ],
   "source": [
    "N=20\n",
    "location={}\n",
    "iteration=1\n",
    "for i in range(N):\n",
    "    for j in range(N):\n",
    "        plt.scatter(i,j,s=100,c='k')\n",
    "        location[iteration]=(i,j)\n",
    "        iteration+=1"
   ]
  },
  {
   "cell_type": "code",
   "execution_count": 3,
   "metadata": {},
   "outputs": [
    {
     "name": "stdout",
     "output_type": "stream",
     "text": [
      "OF=  28.0\n",
      "The solver returned a status of:ok\n",
      "this is feasible and optimal\n"
     ]
    }
   ],
   "source": [
    "for n in [iteration-1]:\n",
    "    Xdic={}\n",
    "    for i in range(1,iteration):\n",
    "        Xdic[i,'x']=location[i][0]\n",
    "        Xdic[i,'y']=location[i][1]\n",
    "        Xdic[i,'D']=np.random.uniform()\n",
    "    \n",
    "    AllTour={}\n",
    "    for i in range(1,n+1):\n",
    "        for j in range(1,n+1):\n",
    "            if i!=j and sqrt((Xdic[i,'x']-Xdic[j,'x'])**2+(Xdic[i,'y']-Xdic[j,'y'])**2)<=1.1:\n",
    "                AllTour[i,j]=Xdic[i,'D']*Xdic[j,'D']\n",
    "            else:\n",
    "                AllTour[i,j]=100\n",
    "    allowed={}\n",
    "    for i in range(1,n+1):\n",
    "        for j in range(1,n+1):\n",
    "            if i!=j and AllTour[i,j]<=1.1:\n",
    "                allowed[i,j]=1\n",
    "\n",
    "    model = AbstractModel()\n",
    "    model.N =Param(mutable=True, default=n) \n",
    "    model.i = RangeSet(1,model.N)\n",
    "    model.j = Set(initialize=model.i)\n",
    "    model.U = Var(model.i,model.j, initialize=1, within=Binary)\n",
    "    model.flow = Var(model.i,model.j,bounds=(0,1), within=NonNegativeReals)\n",
    "    model.G = Var(bounds=(0,1), within=NonNegativeReals)\n",
    "    \n",
    "    def initvalTerminal(model,i):\n",
    "        if random.uniform(0,1)<0.1:\n",
    "            return 1\n",
    "        else:\n",
    "            return 0\n",
    "    model.Terminal=Param(model.i, mutable=True, initialize=initvalTerminal) \n",
    "    def initval(model,i):\n",
    "        return random.uniform(0,1)\n",
    "    model.Xloc=Param(model.i, initialize=initval,mutable=True)\n",
    "    model.Yloc=Param(model.i, initialize=initval, mutable=True)\n",
    "\n",
    "    def Rule_D(model,i,j):\n",
    "        return AllTour[i,j]    \n",
    "    model.D=Param(model.i,model.j,  initialize=Rule_D, mutable=True)\n",
    "\n",
    "    def rule_C1(model,i):\n",
    "        if i==1:\n",
    "            return model.G                         ==sum(model.flow[i,j]-model.flow[j,i] for j in model.j if (i,j) in allowed )\n",
    "        else:\n",
    "            return        -model.Terminal[i]/model.N==sum(model.flow[i,j]-model.flow[j,i] for j in model.j if (i,j) in allowed )\n",
    "    model.C1   = Constraint(model.i,rule=rule_C1)\n",
    "\n",
    "    def rule_C2(model,i,j):\n",
    "        if (i,j) in allowed:\n",
    "            return model.flow[i,j]<=1.2*model.U[i,j]\n",
    "        else:\n",
    "            return Constraint.Skip\n",
    "    model.C2   = Constraint(model.i,model.j,rule=rule_C2)\n",
    "    def rule_OF(model):\n",
    "        return sum(model.U[r,c]*model.D[r,c] for (r,c) in allowed )\n",
    "    model.obj1 = Objective(rule=rule_OF, sense=minimize)\n",
    "\n",
    "    opt = SolverFactory('gurobi')\n",
    "    model.N=n\n",
    "    instance = model.create_instance()\n",
    "    for i in instance.i:\n",
    "        instance.Yloc[i]=Xdic[i,'y']\n",
    "        instance.Xloc[i]=Xdic[i,'x']\n",
    "        for j in instance.j:\n",
    "            instance.D[i,j]=sqrt((Xdic[i,'x']-Xdic[j,'x'])**2+(Xdic[i,'y']-Xdic[j,'y'])**2)\n",
    "\n",
    "    results = opt.solve(instance) # solves and updates instance\n",
    "    print('OF= ',value(instance.obj1))\n",
    "    print (\"The solver returned a status of:\"+str(results.solver.status))\n",
    "    from pyomo.opt import SolverStatus, TerminationCondition\n",
    "    if (results.solver.status == SolverStatus.ok) and (results.solver.termination_condition == TerminationCondition.optimal):\n",
    "         print (\"this is feasible and optimal\")\n",
    "    elif results.solver.termination_condition == TerminationCondition.infeasible:\n",
    "         print (\"do something about it? or exit?\")\n",
    "    else:\n",
    "         print (str(results.solver))"
   ]
  },
  {
   "cell_type": "code",
   "execution_count": 6,
   "metadata": {},
   "outputs": [
    {
     "data": {
      "image/png": "[encoded data removed]",
      "text/plain": [
       "<Figure size 648x648 with 1 Axes>"
      ]
     },
     "metadata": {
      "needs_background": "light"
     },
     "output_type": "display_data"
    }
   ],
   "source": [
    "fig = plt.figure(figsize=(9,9))\n",
    "for (i,j) in allowed:\n",
    "    if value(instance.U[i,j])>0:\n",
    "        plt.plot((Xdic[i,'x'],Xdic[j,'x']),(Xdic[i,'y'],Xdic[j,'y'])  , lw=3,c='orange', alpha=1)\n",
    "for i in instance.i:\n",
    "    plt.scatter(value(instance.Xloc[i]),value(instance.Yloc[i]),label=str(i), s=100,c='k')\n",
    "    if value(instance.Terminal[i]) >0 or i==1:\n",
    "        plt.scatter(value(instance.Xloc[i]),value(instance.Yloc[i]),label=str(i), s=200,c='r')\n",
    "\n",
    "plt.axis('off')\n",
    "plt.savefig('TSP and MST for '+str(n)+' cities .png', format='png', bbox_inches='tight', dpi=200)\n",
    "\n"
   ]
  },
  {
   "cell_type": "code",
   "execution_count": 5,
   "metadata": {},
   "outputs": [
    {
     "data": {
      "text/plain": [
       "360"
      ]
     },
     "execution_count": 5,
     "metadata": {},
     "output_type": "execute_result"
    }
   ],
   "source": [
    "len(allowed)"
   ]
  },
  {
   "cell_type": "code",
   "execution_count": null,
   "metadata": {},
   "outputs": [],
   "source": []
  }
 ],
 "metadata": {
  "kernelspec": {
   "display_name": "Python 3",
   "language": "python",
   "name": "python3"
  },
  "language_info": {
   "codemirror_mode": {
    "name": "ipython",
    "version": 3
   },
   "file_extension": ".py",
   "mimetype": "text/x-python",
   "name": "python",
   "nbconvert_exporter": "python",
   "pygments_lexer": "ipython3",
   "version": "3.7.4"
  }
 },
 "nbformat": 4,
 "nbformat_minor": 4
}
