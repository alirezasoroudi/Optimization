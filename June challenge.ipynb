{
 "cells": [
  {
   "cell_type": "code",
   "execution_count": 1,
   "metadata": {},
   "outputs": [],
   "source": [
    "from pyomo.environ import *\n",
    "import matplotlib.pyplot as plt"
   ]
  },
  {
   "cell_type": "markdown",
   "metadata": {},
   "source": [
    "There are three boxes, but only one of them has gold inside. Additionally, each box has a message printed on it. One of these messages is true and the other two are lies.\n",
    "The first box says, “Gold is in this box”. F\n",
    "The second box says, “Gold is not in this box”.F\n",
    "The third box says, “Gold is in not in Box 1”.T"
   ]
  },
  {
   "cell_type": "code",
   "execution_count": 2,
   "metadata": {},
   "outputs": [],
   "source": [
    "model = AbstractModel()\n",
    "model.x1 = Var(domain=Binary)\n",
    "model.x2 = Var(domain=Binary)\n",
    "model.x3 = Var(domain=Binary)\n",
    "model.U1 = Var(domain=Binary)\n",
    "model.U2 = Var(domain=Binary)\n",
    "model.U3 = Var(domain=Binary)\n",
    "model.c1 =Constraint(expr=model.x1==model.U1)    \n",
    "model.c2 =Constraint(expr=(1-model.U2)==model.x2 )    \n",
    "model.c3 =Constraint(expr=(1-model.U1)==model.x3 )    \n",
    "model.c4 =Constraint(expr=model.x1+model.x2+model.x3==1 )    \n",
    "model.c5 =Constraint(expr=model.U1+model.U2+model.U3==1 )    \n",
    "model.obj = Objective(expr=model.x1+model.x2+model.x3, sense=minimize)"
   ]
  },
  {
   "cell_type": "code",
   "execution_count": 3,
   "metadata": {},
   "outputs": [],
   "source": [
    "instance = model.create_instance()"
   ]
  },
  {
   "cell_type": "code",
   "execution_count": 4,
   "metadata": {},
   "outputs": [
    {
     "name": "stdout",
     "output_type": "stream",
     "text": [
      "this is feasible and optimal\n"
     ]
    }
   ],
   "source": [
    "opt = SolverFactory('glpk')\n",
    "results=opt.solve(instance)\n",
    "\n",
    "from pyomo.opt import SolverStatus, TerminationCondition\n",
    "if (results.solver.status == SolverStatus.ok) and (results.solver.termination_condition == TerminationCondition.optimal):\n",
    "     print (\"this is feasible and optimal\")\n",
    "elif results.solver.termination_condition == TerminationCondition.infeasible:\n",
    "     print (\"do something about it? or exit?\")\n",
    "else:\n",
    "     print (str(results.solver))"
   ]
  },
  {
   "cell_type": "code",
   "execution_count": 5,
   "metadata": {},
   "outputs": [
    {
     "name": "stdout",
     "output_type": "stream",
     "text": [
      "U1=  0.0 x1=  0.0\n",
      "U2=  1.0 x2=  0.0\n",
      "U3=  0.0 x3=  1.0\n"
     ]
    }
   ],
   "source": [
    "print('U1= ',value(instance.U1),'x1= ',value(instance.x1))\n",
    "print('U2= ',value(instance.U2),'x2= ',value(instance.x2))\n",
    "print('U3= ',value(instance.U3),'x3= ',value(instance.x3))\n"
   ]
  },
  {
   "cell_type": "code",
   "execution_count": null,
   "metadata": {},
   "outputs": [],
   "source": []
  }
 ],
 "metadata": {
  "kernelspec": {
   "display_name": "Python 3",
   "language": "python",
   "name": "python3"
  },
  "language_info": {
   "codemirror_mode": {
    "name": "ipython",
    "version": 3
   },
   "file_extension": ".py",
   "mimetype": "text/x-python",
   "name": "python",
   "nbconvert_exporter": "python",
   "pygments_lexer": "ipython3",
   "version": "3.7.4"
  }
 },
 "nbformat": 4,
 "nbformat_minor": 4
}
