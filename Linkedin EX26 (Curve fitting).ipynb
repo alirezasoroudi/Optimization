{
 "cells": [
  {
   "cell_type": "code",
   "execution_count": 1,
   "metadata": {},
   "outputs": [],
   "source": [
    "from pyomo.environ import *\n",
    "import matplotlib.pyplot as plt\n",
    "import numpy as np\n",
    "import random \n",
    "import pandas as pd "
   ]
  },
  {
   "cell_type": "markdown",
   "metadata": {},
   "source": [
    "$$y=a sin(b-x)+cx^2+d $$\n"
   ]
  },
  {
   "cell_type": "code",
   "execution_count": 2,
   "metadata": {},
   "outputs": [
    {
     "name": "stdout",
     "output_type": "stream",
     "text": [
      "          x       y  Unnamed: 2  Unnamed: 3  Unnamed: 4  Unnamed: 5\n",
      "0   107.608  60.323         NaN         NaN         NaN         NaN\n",
      "1   108.632  61.122         NaN         NaN         NaN         NaN\n",
      "2   109.773  60.171         NaN         NaN         NaN         NaN\n",
      "3   110.929  61.187         NaN         NaN         NaN         NaN\n",
      "4   112.075  63.221         NaN         NaN         NaN         NaN\n",
      "5   113.270  63.639         NaN         NaN         NaN         NaN\n",
      "6   115.094  64.012         NaN         NaN         NaN         NaN\n",
      "7   116.219  63.761         NaN         NaN         NaN         NaN\n",
      "8   117.388  66.019         NaN         NaN         NaN         NaN\n",
      "9   118.734  67.857         NaN         NaN         NaN         NaN\n",
      "10  120.445  67.869         NaN         NaN         NaN         NaN\n",
      "11  121.950  66.913         NaN         NaN         NaN         NaN\n",
      "12  123.366  68.655         NaN         NaN         NaN         NaN\n",
      "13  125.368  69.564         NaN         NaN         NaN         NaN\n",
      "14  127.852  69.731         NaN         NaN         NaN         NaN\n",
      "15  130.081  70.551         NaN         NaN         NaN         NaN\n",
      "61.122\n"
     ]
    }
   ],
   "source": [
    "df = pd.read_csv(\"dataCF.csv\", delimiter=',', skiprows=0, low_memory=False)\n",
    "print(df)\n",
    "print(df.iloc[1,1])"
   ]
  },
  {
   "cell_type": "code",
   "execution_count": 3,
   "metadata": {},
   "outputs": [],
   "source": [
    "model = AbstractModel()\n",
    "model.N =Param(mutable=True) \n",
    "model.i = RangeSet(1,model.N)\n",
    "def initbound(model):\n",
    "    return (-100,100)\n",
    "model.a = Var( bounds=initbound,within=Reals)\n",
    "model.b = Var( bounds=initbound,within=Reals)\n",
    "model.c = Var( bounds=initbound,within=Reals)\n",
    "model.d = Var( bounds=initbound,within=Reals)\n",
    "\n",
    "model.OF = Var(within=NonNegativeReals, initialize=5)\n",
    "def initvalx(model,i):\n",
    "    return df.iloc[i-1,0]\n",
    "def initvaly(model,i):\n",
    "    return df.iloc[i-1,1]\n",
    "\n",
    "\n",
    "model.Xloc=Param(model.i,  within=NonNegativeReals, initialize=initvalx,mutable=True)\n",
    "model.Yloc=Param(model.i,  within=NonNegativeReals, initialize=initvaly, mutable=True)\n",
    "\n",
    "def rule_OF(model):\n",
    "    return model.OF==sum((model.a*sin(model.b-model.Xloc[i]) +model.c*model.Xloc[i]**2 +model.d-model.Yloc[i])**2 for i in model.i)\n",
    "model.C   = Constraint(rule=rule_OF)\n",
    "\n",
    "model.obj1 = Objective(expr=model.OF, sense=minimize)\n"
   ]
  },
  {
   "cell_type": "code",
   "execution_count": 4,
   "metadata": {},
   "outputs": [],
   "source": [
    "opt = SolverFactory('Ipopt')"
   ]
  },
  {
   "cell_type": "code",
   "execution_count": 5,
   "metadata": {},
   "outputs": [
    {
     "name": "stdout",
     "output_type": "stream",
     "text": [
      "OF=  7.406758504844819\n"
     ]
    }
   ],
   "source": [
    "model.N=len(df)\n",
    "instance = model.create_instance()\n",
    "results = opt.solve(instance) # solves and updates instance\n",
    "print('OF= ',value(instance.obj1))"
   ]
  },
  {
   "cell_type": "code",
   "execution_count": 11,
   "metadata": {},
   "outputs": [
    {
     "data": {
      "image/png": "[encoded data removed]",
      "text/plain": [
       "<Figure size 504x504 with 1 Axes>"
      ]
     },
     "metadata": {
      "needs_background": "light"
     },
     "output_type": "display_data"
    }
   ],
   "source": [
    "fig = plt.figure(figsize=(7,7))\n",
    "XC=np.linspace(min(df['x']),max(df['x']),100);\n",
    "\n",
    "Yc=[]\n",
    "for Xc in XC:\n",
    "    Yc.append(value(instance.a)*sin(value(instance.b)-Xc)+value(instance.c)*Xc**2+value(instance.d))\n",
    "plt.plot(XC,Yc)\n",
    "for i in instance.i:\n",
    "    plt.scatter(value(instance.Xloc[i]),value(instance.Yloc[i]),label=str(i))  \n",
    "plt.xlabel('X Values', fontweight='bold', fontsize=14)\n",
    "plt.ylabel('Y Values', fontweight='bold', fontsize=14)\n",
    "plt.grid()"
   ]
  },
  {
   "cell_type": "code",
   "execution_count": null,
   "metadata": {},
   "outputs": [],
   "source": []
  }
 ],
 "metadata": {
  "kernelspec": {
   "display_name": "Python 3",
   "language": "python",
   "name": "python3"
  },
  "language_info": {
   "codemirror_mode": {
    "name": "ipython",
    "version": 3
   },
   "file_extension": ".py",
   "mimetype": "text/x-python",
   "name": "python",
   "nbconvert_exporter": "python",
   "pygments_lexer": "ipython3",
   "version": "3.7.4"
  }
 },
 "nbformat": 4,
 "nbformat_minor": 4
}
