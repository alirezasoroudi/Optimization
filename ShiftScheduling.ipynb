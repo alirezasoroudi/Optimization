{
 "cells": [
  {
   "cell_type": "code",
   "execution_count": 1,
   "metadata": {},
   "outputs": [],
   "source": [
    "from pyomo.environ import *\n",
    "import matplotlib.pyplot as plt\n",
    "import numpy as np\n",
    "import random \n",
    "import pandas as pd \n",
    "from scipy.spatial import ConvexHull\n",
    "import math "
   ]
  },
  {
   "cell_type": "code",
   "execution_count": 2,
   "metadata": {},
   "outputs": [
    {
     "data": {
      "text/plain": [
       "'df = pd.read_csv(\"opendss.csv\", delimiter=\\',\\', skiprows=0, low_memory=False)\\ndf'"
      ]
     },
     "execution_count": 2,
     "metadata": {},
     "output_type": "execute_result"
    }
   ],
   "source": [
    "'''df = pd.read_csv(\"opendss.csv\", delimiter=',', skiprows=0, low_memory=False)\n",
    "df'''"
   ]
  },
  {
   "cell_type": "code",
   "execution_count": 72,
   "metadata": {},
   "outputs": [
    {
     "name": "stdout",
     "output_type": "stream",
     "text": [
      "OF=  169.0\n",
      "The solver returned a status of:ok\n",
      "this is feasible and optimal\n",
      "Total =  162.0\n"
     ]
    }
   ],
   "source": [
    "model = AbstractModel()\n",
    "model.i = RangeSet(1,8)\n",
    "model.j = RangeSet(1,3)\n",
    "model.t = RangeSet(1,18)\n",
    "\n",
    "model.X = Var(model.i,model.j,model.t, within=Binary)\n",
    "model.Nshift= Var( within=NonNegativeReals)\n",
    "\n",
    "def Rule_C1(model,t,j):\n",
    "    return sum(model.X[i,j,t] for i in model.i)==3\n",
    "model.C1=Constraint(model.t,model.j,  rule=Rule_C1)\n",
    "\n",
    "def Rule_CA(model,t,i):\n",
    "    return sum(model.X[i,j,t] for j in model.j)<=2\n",
    "model.CA=Constraint(model.t,model.i,  rule=Rule_CA)\n",
    "\n",
    "def Rule_CB(model,t,i):\n",
    "    return sum(model.X[i,j,t] for j in model.j)>=1\n",
    "model.CB=Constraint(model.t,model.i,  rule=Rule_CB)\n",
    "\n",
    "def Rule_C2(model,t,i):\n",
    "    if t<18:\n",
    "        return model.X[i,3,t]+ model.X[i,3,t+1] <=1\n",
    "    else:\n",
    "        return Constraint.Skip\n",
    "model.C2=Constraint(model.t,model.i,  rule=Rule_C2)\n",
    "\n",
    "def Rule_C3(model,t,i):\n",
    "    if t<18:\n",
    "        return model.X[i,3,t]+ model.X[i,1,t+1] <=1\n",
    "    else:\n",
    "        return Constraint.Skip\n",
    "model.C3=Constraint(model.t,model.i,  rule=Rule_C3)\n",
    "\n",
    "def Rule_C4(model,i):\n",
    "    return sum(model.X[i,3,t] for t in model.t)  <=model.Nshift\n",
    "model.C4=Constraint(model.i,  rule=Rule_C4)\n",
    "\n",
    "def rule_OF(model):\n",
    "    #return quicksum(model.X[i,j,t] for i in model.i for j in model.j for t in model.t )\n",
    "    return model.Nshift+quicksum(model.X[i,j,t] for i in model.i for j in model.j for t in model.t ) \n",
    "model.obj1 = Objective(rule=rule_OF, sense=minimize)\n",
    "\n",
    "opt = SolverFactory('gurobi')\n",
    "instance = model.create_instance()\n",
    "results = opt.solve(instance) # solves and updates instance\n",
    "print('OF= ',value(instance.obj1))\n",
    "print (\"The solver returned a status of:\"+str(results.solver.status))\n",
    "from pyomo.opt import SolverStatus, TerminationCondition\n",
    "if (results.solver.status == SolverStatus.ok) and (results.solver.termination_condition == TerminationCondition.optimal):\n",
    "     print (\"this is feasible and optimal\")\n",
    "elif results.solver.termination_condition == TerminationCondition.infeasible:\n",
    "     print (\"do something about it? or exit?\")\n",
    "else:\n",
    "     print (str(results.solver))\n",
    "        \n",
    "print('Total = ',sum( value(instance.X[i,j,t]) for i in instance.i for j in instance.j for t in instance.t ))       \n",
    "        "
   ]
  },
  {
   "cell_type": "code",
   "execution_count": 81,
   "metadata": {},
   "outputs": [
    {
     "name": "stdout",
     "output_type": "stream",
     "text": [
      "1 7.0\n",
      "2 7.0\n",
      "3 7.0\n",
      "4 7.0\n",
      "5 6.0\n",
      "6 7.0\n",
      "7 7.0\n",
      "8 6.0\n"
     ]
    },
    {
     "data": {
      "image/png": "[encoded data removed]",
      "text/plain": [
       "<Figure size 864x504 with 1 Axes>"
      ]
     },
     "metadata": {
      "needs_background": "light"
     },
     "output_type": "display_data"
    }
   ],
   "source": [
    "color=['r' ,'b','k','green','grey','yellow','brown' ,'k']\n",
    "MK=['o','s','p','^','*','.','d','x','+']\n",
    "cmap = plt.cm.Dark2  # define the colormap\n",
    "color = [cmap(i) for i in range(20)]\n",
    "plt.figure(figsize=(12,7) )\n",
    "for t in instance.t:\n",
    "    for i in instance.i:\n",
    "        for j in instance.j:\n",
    "            if value(instance.X[i,j,t])>0:\n",
    "                #print(t,i,j)\n",
    "                plt.scatter(t,1.8*j+0.15*i,s=90,color=color[i-1],marker=MK[i-1])\n",
    "                \n",
    "plt.xticks([i for i in range(1,19)], fontweight='bold', fontsize=12)\n",
    "\n",
    "plt.yticks([i*2 for i in range(1,4)] ,['Morning', 'Afternoon', 'Night'] , fontweight='bold', fontsize=12)\n",
    "\n",
    "for i in instance.i:\n",
    "    print(i, sum(value(instance.X[i,j,t]) for t in instance.t) )\n",
    "plt.xlabel('Day', fontweight='bold', fontsize=12)\n",
    "plt.grid()\n",
    "plt.rc('axes',edgecolor='w')\n",
    "plt.savefig('ShiftStaff .png', format='png', bbox_inches='tight', dpi=400)\n"
   ]
  },
  {
   "cell_type": "code",
   "execution_count": null,
   "metadata": {},
   "outputs": [],
   "source": []
  }
 ],
 "metadata": {
  "kernelspec": {
   "display_name": "Python 3",
   "language": "python",
   "name": "python3"
  },
  "language_info": {
   "codemirror_mode": {
    "name": "ipython",
    "version": 3
   },
   "file_extension": ".py",
   "mimetype": "text/x-python",
   "name": "python",
   "nbconvert_exporter": "python",
   "pygments_lexer": "ipython3",
   "version": "3.7.4"
  }
 },
 "nbformat": 4,
 "nbformat_minor": 4
}
